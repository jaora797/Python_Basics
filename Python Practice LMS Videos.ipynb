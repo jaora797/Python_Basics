{
 "cells": [
  {
   "cell_type": "code",
   "execution_count": 1,
   "id": "26226ae0",
   "metadata": {},
   "outputs": [
    {
     "name": "stdout",
     "output_type": "stream",
     "text": [
      "6\n"
     ]
    }
   ],
   "source": [
    "a=5\n",
    "b=6\n",
    "print(b)"
   ]
  },
  {
   "cell_type": "code",
   "execution_count": 5,
   "id": "50f31980",
   "metadata": {},
   "outputs": [
    {
     "name": "stdout",
     "output_type": "stream",
     "text": [
      "5\n"
     ]
    }
   ],
   "source": [
    "a=6\n",
    "b=5\n",
    "print(b)"
   ]
  },
  {
   "cell_type": "code",
   "execution_count": 7,
   "id": "39db2c31",
   "metadata": {},
   "outputs": [
    {
     "data": {
      "text/plain": [
       "float"
      ]
     },
     "execution_count": 7,
     "metadata": {},
     "output_type": "execute_result"
    }
   ],
   "source": [
    "num1 = 98.56\n",
    "type(num1)"
   ]
  },
  {
   "cell_type": "markdown",
   "id": "098a71e4",
   "metadata": {},
   "source": [
    "# Typecasting\n",
    "\n",
    ". Hierarchy = Boolean->Int->Float->String  ##Forward typecasting is allowed but backward is not possible (from Str to Bool)\n",
    "\n",
    ". Auto\n",
    "\n",
    ". Forced"
   ]
  },
  {
   "cell_type": "code",
   "execution_count": 9,
   "id": "9fda752b",
   "metadata": {},
   "outputs": [
    {
     "data": {
      "text/plain": [
       "118.12"
      ]
     },
     "execution_count": 9,
     "metadata": {},
     "output_type": "execute_result"
    }
   ],
   "source": [
    "#auto type casting\n",
    "exp = 5+ False + 6.78 + True + 7 + 98.34  ##(where False = 0 and True = 1)\n",
    "exp #5+0+6.78+1+7+98.34 equation"
   ]
  },
  {
   "cell_type": "code",
   "execution_count": 13,
   "id": "a158f37d",
   "metadata": {},
   "outputs": [
    {
     "data": {
      "text/plain": [
       "13"
      ]
     },
     "execution_count": 13,
     "metadata": {},
     "output_type": "execute_result"
    }
   ],
   "source": [
    "exp1 = 5+False+True+7  ##5+0+1+7\n",
    "exp1\n"
   ]
  },
  {
   "cell_type": "code",
   "execution_count": 14,
   "id": "55a14016",
   "metadata": {},
   "outputs": [
    {
     "data": {
      "text/plain": [
       "int"
      ]
     },
     "execution_count": 14,
     "metadata": {},
     "output_type": "execute_result"
    }
   ],
   "source": [
    "type(exp1)"
   ]
  },
  {
   "cell_type": "code",
   "execution_count": 17,
   "id": "284c4239",
   "metadata": {},
   "outputs": [
    {
     "data": {
      "text/plain": [
       "5"
      ]
     },
     "execution_count": 17,
     "metadata": {},
     "output_type": "execute_result"
    }
   ],
   "source": [
    "##Forced Typecasting\n",
    "exp2 = int(5.75)\n",
    "exp2"
   ]
  },
  {
   "cell_type": "code",
   "execution_count": 18,
   "id": "829b8fad",
   "metadata": {},
   "outputs": [
    {
     "data": {
      "text/plain": [
       "45.0"
      ]
     },
     "execution_count": 18,
     "metadata": {},
     "output_type": "execute_result"
    }
   ],
   "source": [
    "exp3 = float(45)\n",
    "exp3"
   ]
  },
  {
   "cell_type": "code",
   "execution_count": 19,
   "id": "8ceff7b6",
   "metadata": {},
   "outputs": [
    {
     "data": {
      "text/plain": [
       "1.0"
      ]
     },
     "execution_count": 19,
     "metadata": {},
     "output_type": "execute_result"
    }
   ],
   "source": [
    "## typecasting boolean datatyoe\n",
    "float(True)"
   ]
  },
  {
   "cell_type": "code",
   "execution_count": 20,
   "id": "d1026fbe",
   "metadata": {},
   "outputs": [
    {
     "data": {
      "text/plain": [
       "0.0"
      ]
     },
     "execution_count": 20,
     "metadata": {},
     "output_type": "execute_result"
    }
   ],
   "source": [
    "float(False)"
   ]
  },
  {
   "cell_type": "code",
   "execution_count": 21,
   "id": "32d61751",
   "metadata": {},
   "outputs": [
    {
     "data": {
      "text/plain": [
       "0"
      ]
     },
     "execution_count": 21,
     "metadata": {},
     "output_type": "execute_result"
    }
   ],
   "source": [
    "int(False)"
   ]
  },
  {
   "cell_type": "code",
   "execution_count": 2,
   "id": "d4e66f44",
   "metadata": {},
   "outputs": [
    {
     "data": {
      "text/plain": [
       "-18.53"
      ]
     },
     "execution_count": 2,
     "metadata": {},
     "output_type": "execute_result"
    }
   ],
   "source": [
    "ex1 = 5 + int('14')+False+float(True)+15.67+False-True-53.2\n",
    "ex1\n"
   ]
  },
  {
   "cell_type": "code",
   "execution_count": 3,
   "id": "4bf27cf4",
   "metadata": {},
   "outputs": [
    {
     "name": "stdout",
     "output_type": "stream",
     "text": [
      "Enter the value 8\n"
     ]
    },
    {
     "data": {
      "text/plain": [
       "'8'"
      ]
     },
     "execution_count": 3,
     "metadata": {},
     "output_type": "execute_result"
    }
   ],
   "source": [
    "#input funciton\n",
    "num=input(\"Enter the value \")\n",
    "num   ##by default in this function the output value will be string"
   ]
  },
  {
   "cell_type": "code",
   "execution_count": 4,
   "id": "12bf0f54",
   "metadata": {},
   "outputs": [
    {
     "data": {
      "text/plain": [
       "str"
      ]
     },
     "execution_count": 4,
     "metadata": {},
     "output_type": "execute_result"
    }
   ],
   "source": [
    "type(num)"
   ]
  },
  {
   "cell_type": "code",
   "execution_count": 8,
   "id": "8d124df5",
   "metadata": {},
   "outputs": [
    {
     "name": "stdout",
     "output_type": "stream",
     "text": [
      "Enter the value 8\n"
     ]
    },
    {
     "data": {
      "text/plain": [
       "8"
      ]
     },
     "execution_count": 8,
     "metadata": {},
     "output_type": "execute_result"
    }
   ],
   "source": [
    "#input funciton\n",
    "num=int(input(\"Enter the value \"))\n",
    "num   ##here we have explicitly type casted the string value to integer\n"
   ]
  },
  {
   "cell_type": "code",
   "execution_count": 6,
   "id": "62fb1f37",
   "metadata": {},
   "outputs": [
    {
     "name": "stdout",
     "output_type": "stream",
     "text": [
      "Enter the value 8\n"
     ]
    },
    {
     "data": {
      "text/plain": [
       "8.0"
      ]
     },
     "execution_count": 6,
     "metadata": {},
     "output_type": "execute_result"
    }
   ],
   "source": [
    "#input funciton\n",
    "num=float(input(\"Enter the value \"))\n",
    "num   ##here we have explicitly type casted the string value to float"
   ]
  },
  {
   "cell_type": "code",
   "execution_count": 9,
   "id": "249833e5",
   "metadata": {},
   "outputs": [
    {
     "data": {
      "text/plain": [
       "'11'"
      ]
     },
     "execution_count": 9,
     "metadata": {},
     "output_type": "execute_result"
    }
   ],
   "source": [
    "## Eval function this is also the inbuild function of python and in this function the command is always giveni in single quotes ''\n",
    "x = str(eval('5+6'))\n",
    "x"
   ]
  },
  {
   "cell_type": "code",
   "execution_count": 10,
   "id": "bcb3dd98",
   "metadata": {},
   "outputs": [
    {
     "name": "stdout",
     "output_type": "stream",
     "text": [
      "55\n"
     ]
    }
   ],
   "source": [
    "y = \"print(55)\"\n",
    "eval(y)\n",
    "##here the function has just printed and given the output as 55 giving it as an integer type"
   ]
  },
  {
   "cell_type": "code",
   "execution_count": 16,
   "id": "977d28e1",
   "metadata": {},
   "outputs": [],
   "source": [
    "import numpy as np"
   ]
  },
  {
   "cell_type": "code",
   "execution_count": 11,
   "id": "84a2830d",
   "metadata": {},
   "outputs": [
    {
     "data": {
      "text/plain": [
       "'-1'"
      ]
     },
     "execution_count": 11,
     "metadata": {},
     "output_type": "execute_result"
    }
   ],
   "source": [
    "z = str(eval('5-6'))\n",
    "z"
   ]
  },
  {
   "cell_type": "code",
   "execution_count": 18,
   "id": "4aaa88ca",
   "metadata": {},
   "outputs": [
    {
     "data": {
      "text/plain": [
       "4096"
      ]
     },
     "execution_count": 18,
     "metadata": {},
     "output_type": "execute_result"
    }
   ],
   "source": [
    "xy = 'np.prod([8,16,32])' ##this has been used using numpy\n",
    "eval(xy)"
   ]
  },
  {
   "cell_type": "code",
   "execution_count": 19,
   "id": "a0aace01",
   "metadata": {},
   "outputs": [
    {
     "data": {
      "text/plain": [
       "56"
      ]
     },
     "execution_count": 19,
     "metadata": {},
     "output_type": "execute_result"
    }
   ],
   "source": [
    "xy = 'sum([8,16,32])' \n",
    "eval(xy)"
   ]
  },
  {
   "cell_type": "markdown",
   "id": "19857d58",
   "metadata": {},
   "source": [
    "## Passing the variable dynamically"
   ]
  },
  {
   "cell_type": "code",
   "execution_count": 1,
   "id": "5f0c11ca",
   "metadata": {},
   "outputs": [
    {
     "name": "stdout",
     "output_type": "stream",
     "text": [
      "The value of the number is  10\n"
     ]
    }
   ],
   "source": [
    "#passing the vairbale dynamically\n",
    "num = 10\n",
    "print(\"The value of the number is \", num)"
   ]
  },
  {
   "cell_type": "code",
   "execution_count": 3,
   "id": "57d23254",
   "metadata": {},
   "outputs": [
    {
     "name": "stdout",
     "output_type": "stream",
     "text": [
      "Hello my name is  John\n"
     ]
    }
   ],
   "source": [
    "name = \"John\"\n",
    "print(\"Hello my name is \", name)"
   ]
  },
  {
   "cell_type": "code",
   "execution_count": 6,
   "id": "d1286e7a",
   "metadata": {},
   "outputs": [
    {
     "name": "stdout",
     "output_type": "stream",
     "text": [
      "My name is Husain and my age is 36  \n"
     ]
    }
   ],
   "source": [
    "## format {}---> place holder where you can place content in the predefined place  '.format'  needs to be used for this function\n",
    "name = \"Husain\"\n",
    "age = 36\n",
    "print(\"My name is {} and my age is {}  \". format(name, age))"
   ]
  },
  {
   "cell_type": "code",
   "execution_count": 7,
   "id": "de26b01e",
   "metadata": {},
   "outputs": [
    {
     "name": "stdout",
     "output_type": "stream",
     "text": [
      "My name is Husain and my age is 36 and i study python \n"
     ]
    }
   ],
   "source": [
    "name = \"Husain\"\n",
    "age = 36\n",
    "sub = \"python\"\n",
    "print(\"My name is {} and my age is {} and i study {} \".format(name, age,sub))"
   ]
  },
  {
   "cell_type": "code",
   "execution_count": 9,
   "id": "1c1e19e1",
   "metadata": {},
   "outputs": [
    {
     "name": "stdout",
     "output_type": "stream",
     "text": [
      "My name is Husain and my age is 36 and i study python \n"
     ]
    }
   ],
   "source": [
    "##running the same code with help of indexing\n",
    "name = \"Husain\"\n",
    "age = 36\n",
    "sub = \"python\"\n",
    "print(\"My name is {1} and my age is {2} and i study {0} \".format(sub, name, age))  # sub=0, name=1 and age=2  as per the indexing"
   ]
  },
  {
   "cell_type": "markdown",
   "id": "0f972685",
   "metadata": {},
   "source": [
    "## Slicing\n",
    "- 3 Parameters [start:stop(E):step]\n"
   ]
  },
  {
   "cell_type": "code",
   "execution_count": 2,
   "id": "20dad0e5",
   "metadata": {},
   "outputs": [
    {
     "data": {
      "text/plain": [
       "45"
      ]
     },
     "execution_count": 2,
     "metadata": {},
     "output_type": "execute_result"
    }
   ],
   "source": [
    "st1 = \"Welcome to Data Science Course with DataMites\"\n",
    "##fist function ascociated with string data type is getting the length of the data\n",
    "len(st1)"
   ]
  },
  {
   "cell_type": "code",
   "execution_count": 3,
   "id": "e193b337",
   "metadata": {},
   "outputs": [
    {
     "data": {
      "text/plain": [
       "'t'"
      ]
     },
     "execution_count": 3,
     "metadata": {},
     "output_type": "execute_result"
    }
   ],
   "source": [
    "st1[8]"
   ]
  },
  {
   "cell_type": "code",
   "execution_count": 6,
   "id": "d844038c",
   "metadata": {},
   "outputs": [
    {
     "data": {
      "text/plain": [
       "'to Data'"
      ]
     },
     "execution_count": 6,
     "metadata": {},
     "output_type": "execute_result"
    }
   ],
   "source": [
    "st1[8:15]   ##start:stop (excluding)"
   ]
  },
  {
   "cell_type": "code",
   "execution_count": 7,
   "id": "5f1d8e2b",
   "metadata": {},
   "outputs": [
    {
     "data": {
      "text/plain": [
       "'D'"
      ]
     },
     "execution_count": 7,
     "metadata": {},
     "output_type": "execute_result"
    }
   ],
   "source": [
    "st1[36]"
   ]
  },
  {
   "cell_type": "code",
   "execution_count": 8,
   "id": "409c8c4a",
   "metadata": {},
   "outputs": [
    {
     "ename": "IndexError",
     "evalue": "string index out of range",
     "output_type": "error",
     "traceback": [
      "\u001b[1;31m---------------------------------------------------------------------------\u001b[0m",
      "\u001b[1;31mIndexError\u001b[0m                                Traceback (most recent call last)",
      "\u001b[1;32m<ipython-input-8-a062d36afdc0>\u001b[0m in \u001b[0;36m<module>\u001b[1;34m\u001b[0m\n\u001b[1;32m----> 1\u001b[1;33m \u001b[0mst1\u001b[0m\u001b[1;33m[\u001b[0m\u001b[1;36m50\u001b[0m\u001b[1;33m]\u001b[0m\u001b[1;33m\u001b[0m\u001b[1;33m\u001b[0m\u001b[0m\n\u001b[0m",
      "\u001b[1;31mIndexError\u001b[0m: string index out of range"
     ]
    }
   ],
   "source": [
    "st1[50] \n",
    "###if the indexing is givven out of the range wil give this error st1[50]  ###if the indexing is givven out of the range  "
   ]
  },
  {
   "cell_type": "code",
   "execution_count": 14,
   "id": "f242c40f",
   "metadata": {},
   "outputs": [
    {
     "data": {
      "text/plain": [
       "'te'"
      ]
     },
     "execution_count": 14,
     "metadata": {},
     "output_type": "execute_result"
    }
   ],
   "source": [
    "st1[-3:-1]"
   ]
  },
  {
   "cell_type": "code",
   "execution_count": 19,
   "id": "3390dee5",
   "metadata": {},
   "outputs": [
    {
     "data": {
      "text/plain": [
       "'Science'"
      ]
     },
     "execution_count": 19,
     "metadata": {},
     "output_type": "execute_result"
    }
   ],
   "source": [
    "st1[-29:-22]"
   ]
  },
  {
   "cell_type": "code",
   "execution_count": 22,
   "id": "d28005ed",
   "metadata": {},
   "outputs": [
    {
     "data": {
      "text/plain": [
       "'SineCus ihDtMt'"
      ]
     },
     "execution_count": 22,
     "metadata": {},
     "output_type": "execute_result"
    }
   ],
   "source": [
    "st1[-29:-1:2] ##[start:stop/end:jump/step]  \n",
    "##this will start from -29 and end at -22 with 2 jumps for each letter  ##negative indexing is not at all recomended"
   ]
  },
  {
   "cell_type": "code",
   "execution_count": 23,
   "id": "d9c2343e",
   "metadata": {},
   "outputs": [
    {
     "data": {
      "text/plain": [
       "'Welcome to Data Science Course with DataMites'"
      ]
     },
     "execution_count": 23,
     "metadata": {},
     "output_type": "execute_result"
    }
   ],
   "source": [
    "st1"
   ]
  },
  {
   "cell_type": "code",
   "execution_count": 28,
   "id": "f6bb8f44",
   "metadata": {},
   "outputs": [
    {
     "data": {
      "text/plain": [
       "'ceoa ic'"
      ]
     },
     "execution_count": 28,
     "metadata": {},
     "output_type": "execute_result"
    }
   ],
   "source": [
    "st1[3:23:3]"
   ]
  },
  {
   "cell_type": "code",
   "execution_count": 29,
   "id": "fd78fcf1",
   "metadata": {},
   "outputs": [
    {
     "data": {
      "text/plain": [
       "'ceoa icCr tDat'"
      ]
     },
     "execution_count": 29,
     "metadata": {},
     "output_type": "execute_result"
    }
   ],
   "source": [
    "st1[3::3] ##here the indexing will be taken starting from 3rd index and ending at last with 3 jumps"
   ]
  },
  {
   "cell_type": "code",
   "execution_count": 30,
   "id": "71031587",
   "metadata": {
    "scrolled": true
   },
   "outputs": [
    {
     "data": {
      "text/plain": [
       "'come to Data Science Course with DataMites'"
      ]
     },
     "execution_count": 30,
     "metadata": {},
     "output_type": "execute_result"
    }
   ],
   "source": [
    "st1[3:] ##if end index is not given then by default it will take till the last index"
   ]
  },
  {
   "cell_type": "code",
   "execution_count": 35,
   "id": "3844a73e",
   "metadata": {},
   "outputs": [
    {
     "data": {
      "text/plain": [
       "'Welcome to'"
      ]
     },
     "execution_count": 35,
     "metadata": {},
     "output_type": "execute_result"
    }
   ],
   "source": [
    "st1[:10]  ##here if the starting point is not mentioned by default it will begin from start 0th index and end at the given end point defined"
   ]
  },
  {
   "cell_type": "code",
   "execution_count": null,
   "id": "e34f0e22",
   "metadata": {},
   "outputs": [],
   "source": []
  },
  {
   "cell_type": "code",
   "execution_count": 32,
   "id": "32be23dc",
   "metadata": {},
   "outputs": [],
   "source": [
    "st3 = st1[3:10] ##here the st1 index is defined to the new variable st3"
   ]
  },
  {
   "cell_type": "code",
   "execution_count": 33,
   "id": "c103fdeb",
   "metadata": {},
   "outputs": [
    {
     "data": {
      "text/plain": [
       "'come to'"
      ]
     },
     "execution_count": 33,
     "metadata": {},
     "output_type": "execute_result"
    }
   ],
   "source": [
    "st3"
   ]
  },
  {
   "cell_type": "code",
   "execution_count": 36,
   "id": "ad26822f",
   "metadata": {},
   "outputs": [],
   "source": [
    "St2 = \"Machine Learning\""
   ]
  },
  {
   "cell_type": "code",
   "execution_count": 39,
   "id": "01291145",
   "metadata": {},
   "outputs": [
    {
     "data": {
      "text/plain": [
       "'gninraeL enihcaM'"
      ]
     },
     "execution_count": 39,
     "metadata": {},
     "output_type": "execute_result"
    }
   ],
   "source": [
    "St2[: :-1]  ##this function will reverse the string value"
   ]
  },
  {
   "cell_type": "markdown",
   "id": "f015995e",
   "metadata": {},
   "source": [
    "## other operators  uppper, lower and split"
   ]
  },
  {
   "cell_type": "code",
   "execution_count": 41,
   "id": "db3a906a",
   "metadata": {},
   "outputs": [
    {
     "data": {
      "text/plain": [
       "'Welcome to data science course with datamites'"
      ]
     },
     "execution_count": 41,
     "metadata": {},
     "output_type": "execute_result"
    }
   ],
   "source": [
    "st1.capitalize()"
   ]
  },
  {
   "cell_type": "code",
   "execution_count": 42,
   "id": "3a8f47fe",
   "metadata": {},
   "outputs": [
    {
     "data": {
      "text/plain": [
       "'Welcome to Data Science Course with DataMites'"
      ]
     },
     "execution_count": 42,
     "metadata": {},
     "output_type": "execute_result"
    }
   ],
   "source": [
    "st1"
   ]
  },
  {
   "cell_type": "code",
   "execution_count": 44,
   "id": "3e4e2714",
   "metadata": {},
   "outputs": [
    {
     "data": {
      "text/plain": [
       "'welcome to data science course with datamites'"
      ]
     },
     "execution_count": 44,
     "metadata": {},
     "output_type": "execute_result"
    }
   ],
   "source": [
    "st1.casefold()"
   ]
  },
  {
   "cell_type": "code",
   "execution_count": 46,
   "id": "7ba72fd1",
   "metadata": {},
   "outputs": [
    {
     "data": {
      "text/plain": [
       "'welcome to data science course with datamites'"
      ]
     },
     "execution_count": 46,
     "metadata": {},
     "output_type": "execute_result"
    }
   ],
   "source": [
    "st1.lower()"
   ]
  },
  {
   "cell_type": "code",
   "execution_count": 47,
   "id": "0e354519",
   "metadata": {},
   "outputs": [
    {
     "data": {
      "text/plain": [
       "'WELCOME TO DATA SCIENCE COURSE WITH DATAMITES'"
      ]
     },
     "execution_count": 47,
     "metadata": {},
     "output_type": "execute_result"
    }
   ],
   "source": [
    "st1.upper()  ##converting the string to upper case"
   ]
  },
  {
   "cell_type": "code",
   "execution_count": 48,
   "id": "b78d3837",
   "metadata": {},
   "outputs": [
    {
     "data": {
      "text/plain": [
       "['Welcome', 'to', 'Data', 'Science', 'Course', 'with', 'DataMites']"
      ]
     },
     "execution_count": 48,
     "metadata": {},
     "output_type": "execute_result"
    }
   ],
   "source": [
    "st1.split() ##this will split the string in to each string variable and creat each word as each string varible and create a list"
   ]
  },
  {
   "cell_type": "code",
   "execution_count": 53,
   "id": "91ccdb28",
   "metadata": {},
   "outputs": [
    {
     "data": {
      "text/plain": [
       "['Wel', 'ome to Data S', 'ien', 'e Course with DataMites']"
      ]
     },
     "execution_count": 53,
     "metadata": {},
     "output_type": "execute_result"
    }
   ],
   "source": [
    "st1.split(\"c\")  ##here the split will happen wherever the c is present"
   ]
  },
  {
   "cell_type": "code",
   "execution_count": 55,
   "id": "94359c92",
   "metadata": {},
   "outputs": [
    {
     "data": {
      "text/plain": [
       "['Welcome ', 'o Da', 'a Science Course wi', 'h Da', 'aMi', 'es']"
      ]
     },
     "execution_count": 55,
     "metadata": {},
     "output_type": "execute_result"
    }
   ],
   "source": [
    "st1.split(\"t\")"
   ]
  },
  {
   "cell_type": "markdown",
   "id": "3ebb5448",
   "metadata": {},
   "source": [
    "## Mathematical Operators"
   ]
  },
  {
   "cell_type": "code",
   "execution_count": 1,
   "id": "4632687b",
   "metadata": {},
   "outputs": [],
   "source": [
    "## + additions\n",
    "## - subtraction\n",
    "## /,//, % divisions\n",
    "## * multiplications\n",
    "## ** power of (square/cube of the number)\n"
   ]
  },
  {
   "cell_type": "code",
   "execution_count": 4,
   "id": "316bab4c",
   "metadata": {},
   "outputs": [
    {
     "data": {
      "text/plain": [
       "11"
      ]
     },
     "execution_count": 4,
     "metadata": {},
     "output_type": "execute_result"
    }
   ],
   "source": [
    "a=5\n",
    "b=6\n",
    "c=a+b\n",
    "c"
   ]
  },
  {
   "cell_type": "code",
   "execution_count": 5,
   "id": "ad0e14ce",
   "metadata": {},
   "outputs": [
    {
     "name": "stdout",
     "output_type": "stream",
     "text": [
      "the value of c is  -1\n"
     ]
    }
   ],
   "source": [
    "a=5\n",
    "b=6\n",
    "c=a-b\n",
    "print(\"the value of c is \",c)"
   ]
  },
  {
   "cell_type": "code",
   "execution_count": null,
   "id": "2e44e11e",
   "metadata": {},
   "outputs": [],
   "source": [
    "## division operator\n",
    "a=15\n",
    "b=6\n",
    "c=a/b  ## when u want ouput to be float\n",
    "c"
   ]
  },
  {
   "cell_type": "code",
   "execution_count": 6,
   "id": "f91838bb",
   "metadata": {},
   "outputs": [
    {
     "data": {
      "text/plain": [
       "2"
      ]
     },
     "execution_count": 6,
     "metadata": {},
     "output_type": "execute_result"
    }
   ],
   "source": [
    "## division operator\n",
    "a=15\n",
    "b=6\n",
    "c=a//b  ## when u want to ignore the ecimal point\n",
    "c"
   ]
  },
  {
   "cell_type": "code",
   "execution_count": 7,
   "id": "94f0e262",
   "metadata": {},
   "outputs": [
    {
     "data": {
      "text/plain": [
       "3"
      ]
     },
     "execution_count": 7,
     "metadata": {},
     "output_type": "execute_result"
    }
   ],
   "source": [
    "\n",
    "a=15\n",
    "b=6\n",
    "c=a%b  ## when u want reminder\n",
    "c"
   ]
  },
  {
   "cell_type": "code",
   "execution_count": 8,
   "id": "8cb03ca7",
   "metadata": {},
   "outputs": [
    {
     "data": {
      "text/plain": [
       "90"
      ]
     },
     "execution_count": 8,
     "metadata": {},
     "output_type": "execute_result"
    }
   ],
   "source": [
    "\n",
    "a=15\n",
    "b=6\n",
    "c=a*b  ## when u want product of the number\n",
    "c"
   ]
  },
  {
   "cell_type": "code",
   "execution_count": 9,
   "id": "33af8474",
   "metadata": {},
   "outputs": [
    {
     "data": {
      "text/plain": [
       "225"
      ]
     },
     "execution_count": 9,
     "metadata": {},
     "output_type": "execute_result"
    }
   ],
   "source": [
    "a**2  ## squre of the number asigned to a ie 15x15=225"
   ]
  },
  {
   "cell_type": "markdown",
   "id": "2cae3d0b",
   "metadata": {},
   "source": [
    "## Conditional Statements"
   ]
  },
  {
   "cell_type": "code",
   "execution_count": 18,
   "id": "7b2264f2",
   "metadata": {},
   "outputs": [
    {
     "name": "stdout",
     "output_type": "stream",
     "text": [
      "not executed\n"
     ]
    }
   ],
   "source": [
    "a=0  ## assigning the vvariable\n",
    "if a>1:\n",
    "    print(\"if executed\") ##this is called block (whch always containts code which needs to be executed is conditon is true)\n",
    "else:\n",
    "    print(\"not executed\")"
   ]
  },
  {
   "cell_type": "code",
   "execution_count": 19,
   "id": "80b10186",
   "metadata": {},
   "outputs": [
    {
     "name": "stdout",
     "output_type": "stream",
     "text": [
      "Out of If block\n"
     ]
    }
   ],
   "source": [
    "a=10\n",
    "if(a==5): ## == operator means equal to \n",
    "    print(\"A value is 10\")\n",
    "    print(\"If block\")\n",
    "    print(\"Continue\")\n",
    "print(\"Out of If block\") #Executes if is True/False"
   ]
  },
  {
   "cell_type": "code",
   "execution_count": 20,
   "id": "d194b07c",
   "metadata": {},
   "outputs": [
    {
     "name": "stdout",
     "output_type": "stream",
     "text": [
      "If statement fails\n",
      "Else statement\n"
     ]
    }
   ],
   "source": [
    "a=10 #if-else\n",
    "if(a==5): #True\n",
    "    print(\"A value is 10\")\n",
    "    print(\"If block\")\n",
    "    print(\"Continue\")\n",
    "else: #False\n",
    "    print(\"If statement fails\")\n",
    "    print(\"Else statement\")\n",
    "## when if condition is not true and else condition is running"
   ]
  },
  {
   "cell_type": "code",
   "execution_count": 21,
   "id": "95bbb3a8",
   "metadata": {},
   "outputs": [
    {
     "name": "stdout",
     "output_type": "stream",
     "text": [
      "A value is 10\n",
      "If block\n",
      "Continue\n"
     ]
    }
   ],
   "source": [
    "a=5 #if-else\n",
    "if(a==5): #True\n",
    "    print(\"A value is 10\")\n",
    "    print(\"If block\")\n",
    "    print(\"Continue\")\n",
    "else: #False\n",
    "    print(\"If statement fails\")\n",
    "    print(\"Else statement\")\n",
    "##when if condition is true"
   ]
  },
  {
   "cell_type": "code",
   "execution_count": null,
   "id": "5dbb47f5",
   "metadata": {},
   "outputs": [],
   "source": [
    "# a>b a is greater than b\n",
    "# a<b a is less than b\n",
    "# a>=b a is greater than or equal to b\n",
    "# a<=b a is less than or equal to b\n",
    "# a==b a is equal to b\n",
    "# a=b assigning the value of b to a\n"
   ]
  },
  {
   "cell_type": "code",
   "execution_count": 25,
   "id": "eed08f7b",
   "metadata": {},
   "outputs": [
    {
     "name": "stdout",
     "output_type": "stream",
     "text": [
      "A is negative\n"
     ]
    }
   ],
   "source": [
    "a=0\n",
    "if(a>0):\n",
    "    print(\"A is positive\")\n",
    "else:\n",
    "    print(\"A is negative\")  ## actually 0 does not have any sign but since the if condiion was not true it printed else condition"
   ]
  },
  {
   "cell_type": "code",
   "execution_count": 27,
   "id": "7dbf17fa",
   "metadata": {},
   "outputs": [
    {
     "name": "stdout",
     "output_type": "stream",
     "text": [
      "elif executed\n"
     ]
    }
   ],
   "source": [
    "a=1\n",
    "if a>2:\n",
    "    print(\"if condition executed\")\n",
    "elif a<2:\n",
    "    print(\"elif executed\")\n",
    "else:\n",
    "    print (\"else is executed\")"
   ]
  },
  {
   "cell_type": "code",
   "execution_count": 28,
   "id": "a810f233",
   "metadata": {},
   "outputs": [
    {
     "name": "stdout",
     "output_type": "stream",
     "text": [
      "if condition executed\n"
     ]
    }
   ],
   "source": [
    "a=3\n",
    "if a>2:\n",
    "    print(\"if condition executed\")\n",
    "elif a<2:\n",
    "    print(\"elif executed\")\n",
    "else:\n",
    "    print (\"else is executed\")"
   ]
  },
  {
   "cell_type": "code",
   "execution_count": 30,
   "id": "1d22cb10",
   "metadata": {},
   "outputs": [
    {
     "name": "stdout",
     "output_type": "stream",
     "text": [
      "else is executed\n"
     ]
    }
   ],
   "source": [
    "a=1\n",
    "if a>2:\n",
    "    print(\"if condition executed\")\n",
    "elif a==0:\n",
    "    print(\"elif executed\")\n",
    "else:\n",
    "    print (\"else is executed\")"
   ]
  },
  {
   "cell_type": "code",
   "execution_count": 3,
   "id": "0fe1266b",
   "metadata": {},
   "outputs": [
    {
     "name": "stdout",
     "output_type": "stream",
     "text": [
      "3000.0\n"
     ]
    }
   ],
   "source": [
    "price=10000\n",
    "good_credit=True\n",
    "if good_credit==True:\n",
    "    down_payment=0.3*price\n",
    "    print(down_payment)\n",
    "else:\n",
    "    down_payment=0.1*price\n",
    "    print(f\"down_payment:{down_payment}\")"
   ]
  },
  {
   "cell_type": "code",
   "execution_count": 6,
   "id": "4d3bc248",
   "metadata": {},
   "outputs": [
    {
     "name": "stdout",
     "output_type": "stream",
     "text": [
      "Enter the Number99.99\n",
      "A is Positive\n"
     ]
    }
   ],
   "source": [
    "a=float(input(\"Enter the Number\"))\n",
    "#a=0,#elif->+ve, -ve, zero, elseif->elif\n",
    "if(a>0):\n",
    "    print(\"A is Positive\")\n",
    "elif(a<0):\n",
    "    print(\"A is Negative\")\n",
    "else:\n",
    "    print(\"A is Zero\")\n"
   ]
  },
  {
   "cell_type": "markdown",
   "id": "006c4333",
   "metadata": {},
   "source": [
    "## Python Data Structures\n",
    "- ordered heterogenous data which is ordered\n",
    "- mutuble\n",
    "- operations\n",
    "- [   ]"
   ]
  },
  {
   "cell_type": "code",
   "execution_count": 2,
   "id": "bf2c9cda",
   "metadata": {},
   "outputs": [
    {
     "data": {
      "text/plain": [
       "[1, 5.5, 'Hi', 0, False]"
      ]
     },
     "execution_count": 2,
     "metadata": {},
     "output_type": "execute_result"
    }
   ],
   "source": [
    "l=[1,5.5,\"Hi\",0, False]  ###creating the list always with[]\n",
    "l ##calling the list"
   ]
  },
  {
   "cell_type": "code",
   "execution_count": 3,
   "id": "e16487c1",
   "metadata": {},
   "outputs": [
    {
     "data": {
      "text/plain": [
       "[1, 5.5, 'Hi', 0, False]"
      ]
     },
     "execution_count": 3,
     "metadata": {},
     "output_type": "execute_result"
    }
   ],
   "source": [
    "l1=list([1,5.5,\"Hi\",0, False]) ##creatting the list with the help of the inbuild function (list)\n",
    "l1"
   ]
  },
  {
   "cell_type": "code",
   "execution_count": 4,
   "id": "919f7dac",
   "metadata": {},
   "outputs": [
    {
     "data": {
      "text/plain": [
       "[]"
      ]
     },
     "execution_count": 4,
     "metadata": {},
     "output_type": "execute_result"
    }
   ],
   "source": [
    "l3=list([])  ##creating empty list\n",
    "l3"
   ]
  },
  {
   "cell_type": "code",
   "execution_count": 5,
   "id": "68d713c6",
   "metadata": {},
   "outputs": [
    {
     "data": {
      "text/plain": [
       "list"
      ]
     },
     "execution_count": 5,
     "metadata": {},
     "output_type": "execute_result"
    }
   ],
   "source": [
    "#cecking the data type of the list\n",
    "type(l3)"
   ]
  },
  {
   "cell_type": "code",
   "execution_count": 6,
   "id": "84b940a6",
   "metadata": {},
   "outputs": [
    {
     "data": {
      "text/plain": [
       "[1, 5.5, 'Hi', 0, False]"
      ]
     },
     "execution_count": 6,
     "metadata": {},
     "output_type": "execute_result"
    }
   ],
   "source": [
    "l  "
   ]
  },
  {
   "cell_type": "code",
   "execution_count": 7,
   "id": "1f015eb0",
   "metadata": {},
   "outputs": [
    {
     "data": {
      "text/plain": [
       "'Hi'"
      ]
     },
     "execution_count": 7,
     "metadata": {},
     "output_type": "execute_result"
    }
   ],
   "source": [
    "##operations--> inserting, deleting,sorting, slicinig\n",
    "l[2] #index value starts with zero 0, to access the elements we do indexing\n"
   ]
  },
  {
   "cell_type": "code",
   "execution_count": 8,
   "id": "9f4eccef",
   "metadata": {},
   "outputs": [
    {
     "data": {
      "text/plain": [
       "0"
      ]
     },
     "execution_count": 8,
     "metadata": {},
     "output_type": "execute_result"
    }
   ],
   "source": [
    "l[-2]"
   ]
  },
  {
   "cell_type": "code",
   "execution_count": 9,
   "id": "dd6427e8",
   "metadata": {},
   "outputs": [
    {
     "data": {
      "text/plain": [
       "[1, 5.5, 'Hi', 0, False]"
      ]
     },
     "execution_count": 9,
     "metadata": {},
     "output_type": "execute_result"
    }
   ],
   "source": [
    "l"
   ]
  },
  {
   "cell_type": "code",
   "execution_count": 10,
   "id": "746d4914",
   "metadata": {},
   "outputs": [
    {
     "data": {
      "text/plain": [
       "[1, 5.5, 'Hi', 0, False, 11]"
      ]
     },
     "execution_count": 10,
     "metadata": {},
     "output_type": "execute_result"
    }
   ],
   "source": [
    "##insertion--> append, extend, insert\n",
    "l.append(11)  ##this will add new element to the end of the list always\n",
    "l \n",
    " "
   ]
  },
  {
   "cell_type": "code",
   "execution_count": 12,
   "id": "32d1be1f",
   "metadata": {},
   "outputs": [
    {
     "data": {
      "text/plain": [
       "False"
      ]
     },
     "execution_count": 12,
     "metadata": {},
     "output_type": "execute_result"
    }
   ],
   "source": [
    "l.pop(4)##this will pop up the 8th element of the list "
   ]
  },
  {
   "cell_type": "code",
   "execution_count": 13,
   "id": "ac08fc1c",
   "metadata": {},
   "outputs": [
    {
     "data": {
      "text/plain": [
       "[1, 5.5, 'Hi', 0, 11, [4, 1, 3, 5]]"
      ]
     },
     "execution_count": 13,
     "metadata": {},
     "output_type": "execute_result"
    }
   ],
   "source": [
    "l.append([4,1,3,5])  ##appending list under a list called as --> nested list\n",
    "l"
   ]
  },
  {
   "cell_type": "code",
   "execution_count": 15,
   "id": "1e55cae0",
   "metadata": {},
   "outputs": [
    {
     "data": {
      "text/plain": [
       "5"
      ]
     },
     "execution_count": 15,
     "metadata": {},
     "output_type": "execute_result"
    }
   ],
   "source": [
    "l[5][3]  ##calling element from the nested list"
   ]
  },
  {
   "cell_type": "code",
   "execution_count": 16,
   "id": "14b8604f",
   "metadata": {},
   "outputs": [],
   "source": [
    "l.reverse()##this will reverse the list"
   ]
  },
  {
   "cell_type": "code",
   "execution_count": 17,
   "id": "d5fdf818",
   "metadata": {},
   "outputs": [
    {
     "data": {
      "text/plain": [
       "[[4, 1, 3, 5], 11, 0, 'Hi', 5.5, 1]"
      ]
     },
     "execution_count": 17,
     "metadata": {},
     "output_type": "execute_result"
    }
   ],
   "source": [
    "l"
   ]
  },
  {
   "cell_type": "code",
   "execution_count": 19,
   "id": "9df08f87",
   "metadata": {},
   "outputs": [
    {
     "data": {
      "text/plain": [
       "[[4, 1, 3, 5], 11, 0, 'Hi', 5.5, 1]"
      ]
     },
     "execution_count": 19,
     "metadata": {},
     "output_type": "execute_result"
    }
   ],
   "source": [
    "l.copy()"
   ]
  },
  {
   "cell_type": "code",
   "execution_count": 23,
   "id": "4c492fa8",
   "metadata": {},
   "outputs": [],
   "source": [
    "l.reverse()"
   ]
  },
  {
   "cell_type": "code",
   "execution_count": 24,
   "id": "8d9e6a54",
   "metadata": {},
   "outputs": [
    {
     "data": {
      "text/plain": [
       "[7, 8, 9, 7, 8, 9, 1, 5.5, 'Hi', 0, 11, [4, 1, 3, 5], 9, 8, 7]"
      ]
     },
     "execution_count": 24,
     "metadata": {},
     "output_type": "execute_result"
    }
   ],
   "source": [
    "l.extend([9,8,7])\n",
    "l"
   ]
  },
  {
   "cell_type": "code",
   "execution_count": 31,
   "id": "53ba3f04",
   "metadata": {},
   "outputs": [
    {
     "data": {
      "text/plain": [
       "[7,\n",
       " 8,\n",
       " 9,\n",
       " 7,\n",
       " 8,\n",
       " 9,\n",
       " 1,\n",
       " 5.5,\n",
       " 'Hi',\n",
       " 0,\n",
       " 11,\n",
       " [4, 1, 3, 5],\n",
       " 9,\n",
       " 8,\n",
       " 7,\n",
       " 'T',\n",
       " 'r',\n",
       " 'u',\n",
       " 'e',\n",
       " 'o',\n",
       " 'o',\n",
       " 5]"
      ]
     },
     "execution_count": 31,
     "metadata": {},
     "output_type": "execute_result"
    }
   ],
   "source": [
    "l.extend([5])\n",
    "l"
   ]
  },
  {
   "cell_type": "code",
   "execution_count": 43,
   "id": "ca2161ed",
   "metadata": {},
   "outputs": [],
   "source": [
    "l.remove(\"e\")"
   ]
  },
  {
   "cell_type": "code",
   "execution_count": 44,
   "id": "ef2ff220",
   "metadata": {},
   "outputs": [
    {
     "data": {
      "text/plain": [
       "[8, 9, 7, 8, 9, 1, 5.5, 'Hi', 0, 11, [4, 1, 3, 5], 9, 8, 7, 'o', 'o', 5]"
      ]
     },
     "execution_count": 44,
     "metadata": {},
     "output_type": "execute_result"
    }
   ],
   "source": [
    "l"
   ]
  },
  {
   "cell_type": "code",
   "execution_count": 45,
   "id": "603dc156",
   "metadata": {},
   "outputs": [
    {
     "data": {
      "text/plain": [
       "[8, 9, 7, 8, 9, 1, 5.5, 'Hi', 0, 11, [4, 1, 3, 5], 9, 8, 7, 'o', 'o', 5]"
      ]
     },
     "execution_count": 45,
     "metadata": {},
     "output_type": "execute_result"
    }
   ],
   "source": [
    "l\n"
   ]
  },
  {
   "cell_type": "code",
   "execution_count": 47,
   "id": "f63e6b34",
   "metadata": {},
   "outputs": [
    {
     "data": {
      "text/plain": [
       "[8,\n",
       " 'T',\n",
       " 5,\n",
       " 9,\n",
       " 7,\n",
       " 8,\n",
       " 9,\n",
       " 1,\n",
       " 5.5,\n",
       " 'Hi',\n",
       " 0,\n",
       " 11,\n",
       " [4, 1, 3, 5],\n",
       " 9,\n",
       " 8,\n",
       " 7,\n",
       " 'o',\n",
       " 'o',\n",
       " 5]"
      ]
     },
     "execution_count": 47,
     "metadata": {},
     "output_type": "execute_result"
    }
   ],
   "source": [
    "l.insert(1,\"T\")  ##position, elememt. ## it will insert and element at the specific position (position, element)\n",
    "l"
   ]
  },
  {
   "cell_type": "code",
   "execution_count": 48,
   "id": "6e3f33a0",
   "metadata": {},
   "outputs": [],
   "source": [
    "l.remove(\"T\")"
   ]
  },
  {
   "cell_type": "code",
   "execution_count": 49,
   "id": "628d85c1",
   "metadata": {},
   "outputs": [
    {
     "data": {
      "text/plain": [
       "[8, 5, 9, 7, 8, 9, 1, 5.5, 'Hi', 0, 11, [4, 1, 3, 5], 9, 8, 7, 'o', 'o', 5]"
      ]
     },
     "execution_count": 49,
     "metadata": {},
     "output_type": "execute_result"
    }
   ],
   "source": [
    "l"
   ]
  },
  {
   "cell_type": "code",
   "execution_count": 52,
   "id": "a28d7500",
   "metadata": {},
   "outputs": [
    {
     "data": {
      "text/plain": [
       "[8,\n",
       " 0,\n",
       " 0,\n",
       " 0,\n",
       " 5,\n",
       " 9,\n",
       " 7,\n",
       " 8,\n",
       " 9,\n",
       " 1,\n",
       " 5.5,\n",
       " 'Hi',\n",
       " 0,\n",
       " 11,\n",
       " [4, 1, 3, 5],\n",
       " 9,\n",
       " 8,\n",
       " 7,\n",
       " 'o',\n",
       " 'o',\n",
       " 5]"
      ]
     },
     "execution_count": 52,
     "metadata": {},
     "output_type": "execute_result"
    }
   ],
   "source": [
    "l.insert(1,0)\n",
    "l"
   ]
  },
  {
   "cell_type": "code",
   "execution_count": 57,
   "id": "17f52f6e",
   "metadata": {},
   "outputs": [
    {
     "data": {
      "text/plain": [
       "['Banana', 'Orange', 'Grapes', 'Cherry', 'Mango', 'Papaya', 'Apple']"
      ]
     },
     "execution_count": 57,
     "metadata": {},
     "output_type": "execute_result"
    }
   ],
   "source": [
    "List=[\"Banana\",\"Orange\",\"Grapes\",\"Cherry\", \"Apple\"]\n",
    "List[4:0] = [\"Mango\",\"Papaya\"]  ##slice assignment new element is been getting added to the list\n",
    "List"
   ]
  },
  {
   "cell_type": "code",
   "execution_count": null,
   "id": "3999fba2",
   "metadata": {},
   "outputs": [],
   "source": []
  }
 ],
 "metadata": {
  "kernelspec": {
   "display_name": "Python 3",
   "language": "python",
   "name": "python3"
  },
  "language_info": {
   "codemirror_mode": {
    "name": "ipython",
    "version": 3
   },
   "file_extension": ".py",
   "mimetype": "text/x-python",
   "name": "python",
   "nbconvert_exporter": "python",
   "pygments_lexer": "ipython3",
   "version": "3.8.8"
  }
 },
 "nbformat": 4,
 "nbformat_minor": 5
}
